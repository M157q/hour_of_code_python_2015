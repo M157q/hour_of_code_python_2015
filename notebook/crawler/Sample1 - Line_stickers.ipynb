{
 "cells": [
  {
   "cell_type": "markdown",
   "metadata": {},
   "source": [
    "# Sample1 - Line Sticker"
   ]
  },
  {
   "cell_type": "markdown",
   "metadata": {},
   "source": [
    "## Requirement"
   ]
  },
  {
   "cell_type": "code",
   "execution_count": null,
   "metadata": {
    "collapsed": false,
    "scrolled": false
   },
   "outputs": [],
   "source": [
    "!pip install requests"
   ]
  },
  {
   "cell_type": "code",
   "execution_count": null,
   "metadata": {
    "collapsed": false,
    "scrolled": true
   },
   "outputs": [],
   "source": [
    "!pip install beautifulsoup4"
   ]
  },
  {
   "cell_type": "code",
   "execution_count": null,
   "metadata": {
    "collapsed": true
   },
   "outputs": [],
   "source": [
    "!conda install lxml -y"
   ]
  },
  {
   "cell_type": "markdown",
   "metadata": {},
   "source": [
    "---\n",
    "\n",
    "---\n",
    "\n",
    "---"
   ]
  },
  {
   "cell_type": "markdown",
   "metadata": {},
   "source": [
    "## Find Line Stickers\n",
    "\n",
    "#### Teaching: http://lmgtfy.com/?q=LINE+%E8%B2%BC%E5%9C%96"
   ]
  },
  {
   "cell_type": "markdown",
   "metadata": {},
   "source": [
    "---"
   ]
  },
  {
   "cell_type": "markdown",
   "metadata": {},
   "source": [
    "## Stickers: 熊大＆兔兔（跟我玩嘛☆恩愛篇）\n",
    "<img src=\"images/line_title.png\"/>\n",
    "### https://store.line.me/stickershop/product/5511/zh-Hant"
   ]
  },
  {
   "cell_type": "markdown",
   "metadata": {},
   "source": [
    "## Stickers and URL\n",
    "<img src='images/line_pic/8693394.png'/>\n",
    "https://sdl-stickershop.line.naver.jp/products/0/0/1/5511/android/stickers/8693394.png\n",
    "\n",
    "\n",
    "<img src='images/line_pic/8693395.png'/>\n",
    "https://sdl-stickershop.line.naver.jp/products/0/0/1/5511/android/stickers/8693395.png\n",
    "\n",
    "\n",
    "<img src='images/line_pic/8693396.png'/>\n",
    "https://sdl-stickershop.line.naver.jp/products/0/0/1/5511/android/stickers/8693396.png\n",
    "\n",
    "\n",
    "<img src='images/line_pic/8693397.png'/>\n",
    "https://sdl-stickershop.line.naver.jp/products/0/0/1/5511/android/stickers/8693397.png\n",
    "\n",
    "\n",
    "<img src='images/line_pic/8693398.png'/>\n",
    "https://sdl-stickershop.line.naver.jp/products/0/0/1/5511/android/stickers/8693398.png\n",
    "\n",
    "\n",
    "<img src='images/line_pic/8693399.png'/>\n",
    "https://sdl-stickershop.line.naver.jp/products/0/0/1/5511/android/stickers/8693399.png\n",
    "\n",
    "\n",
    "<img src='images/line_pic/8693400.png'/>\n",
    "https://sdl-stickershop.line.naver.jp/products/0/0/1/5511/android/stickers/8693400.png\n",
    "\n",
    "\n",
    "<img src='images/line_pic/8693401.png'/>\n",
    "https://sdl-stickershop.line.naver.jp/products/0/0/1/5511/android/stickers/8693401.png\n",
    "\n",
    "\n",
    "<img src='images/line_pic/8693402.png'/>\n",
    "https://sdl-stickershop.line.naver.jp/products/0/0/1/5511/android/stickers/8693402.png\n",
    "\n",
    "\n",
    "<img src='images/line_pic/8693403.png'/>\n",
    "https://sdl-stickershop.line.naver.jp/products/0/0/1/5511/android/stickers/8693403.png\n",
    "\n",
    "\n",
    "<img src='images/line_pic/8693404.png'/>\n",
    "https://sdl-stickershop.line.naver.jp/products/0/0/1/5511/android/stickers/8693404.png\n",
    "\n",
    "\n",
    "<img src='images/line_pic/8693405.png'/>\n",
    "https://sdl-stickershop.line.naver.jp/products/0/0/1/5511/android/stickers/8693405.png\n",
    "\n",
    "\n",
    "<img src='images/line_pic/8693406.png'/>\n",
    "https://sdl-stickershop.line.naver.jp/products/0/0/1/5511/android/stickers/8693406.png\n",
    "\n",
    "\n",
    "<img src='images/line_pic/8693407.png'/>\n",
    "https://sdl-stickershop.line.naver.jp/products/0/0/1/5511/android/stickers/8693407.png\n",
    "\n",
    "\n",
    "<img src='images/line_pic/8693408.png'/>\n",
    "https://sdl-stickershop.line.naver.jp/products/0/0/1/5511/android/stickers/8693408.png\n",
    "\n",
    "\n",
    "<img src='images/line_pic/8693409.png'/>\n",
    "https://sdl-stickershop.line.naver.jp/products/0/0/1/5511/android/stickers/8693409.png\n",
    "\n",
    "\n",
    "<img src='images/line_pic/8693410.png'/>\n",
    "https://sdl-stickershop.line.naver.jp/products/0/0/1/5511/android/stickers/8693410.png\n",
    "\n",
    "\n",
    "<img src='images/line_pic/8693411.png'/>\n",
    "https://sdl-stickershop.line.naver.jp/products/0/0/1/5511/android/stickers/8693411.png\n",
    "\n",
    "\n",
    "<img src='images/line_pic/8693412.png'/>\n",
    "https://sdl-stickershop.line.naver.jp/products/0/0/1/5511/android/stickers/8693412.png\n",
    "\n",
    "\n",
    "<img src='images/line_pic/8693413.png'/>\n",
    "https://sdl-stickershop.line.naver.jp/products/0/0/1/5511/android/stickers/8693413.png\n",
    "\n",
    "\n",
    "<img src='images/line_pic/8693414.png'/>\n",
    "https://sdl-stickershop.line.naver.jp/products/0/0/1/5511/android/stickers/8693414.png\n",
    "\n",
    "\n",
    "<img src='images/line_pic/8693415.png'/>\n",
    "https://sdl-stickershop.line.naver.jp/products/0/0/1/5511/android/stickers/8693415.png\n",
    "\n",
    "\n",
    "<img src='images/line_pic/8693416.png'/>\n",
    "https://sdl-stickershop.line.naver.jp/products/0/0/1/5511/android/stickers/8693416.png\n",
    "\n",
    "\n",
    "<img src='images/line_pic/8693417.png'/>\n",
    "https://sdl-stickershop.line.naver.jp/products/0/0/1/5511/android/stickers/8693417.png"
   ]
  },
  {
   "cell_type": "markdown",
   "metadata": {},
   "source": [
    "---\n",
    "\n",
    "---\n",
    "\n",
    "---"
   ]
  },
  {
   "cell_type": "markdown",
   "metadata": {},
   "source": [
    "# Quick Start"
   ]
  },
  {
   "cell_type": "markdown",
   "metadata": {},
   "source": [
    "## Import necessary librarys"
   ]
  },
  {
   "cell_type": "code",
   "execution_count": null,
   "metadata": {
    "collapsed": true
   },
   "outputs": [],
   "source": [
    "from bs4 import BeautifulSoup\n",
    "\n",
    "import lxml\n",
    "import requests"
   ]
  },
  {
   "cell_type": "markdown",
   "metadata": {},
   "source": [
    "## Make a request"
   ]
  },
  {
   "cell_type": "code",
   "execution_count": null,
   "metadata": {
    "collapsed": true
   },
   "outputs": [],
   "source": [
    "url = 'https://store.line.me/stickershop/product/5511/zh-Hant'\n",
    "response = requests.get(url)"
   ]
  },
  {
   "cell_type": "markdown",
   "metadata": {},
   "source": [
    "## Parsing response data using BeautifulSoup"
   ]
  },
  {
   "cell_type": "code",
   "execution_count": null,
   "metadata": {
    "collapsed": false
   },
   "outputs": [],
   "source": [
    "soup = BeautifulSoup(response.text, 'lxml')"
   ]
  },
  {
   "cell_type": "markdown",
   "metadata": {},
   "source": [
    "## Try again to find out  stickers URL string via BeautifulSoup"
   ]
  },
  {
   "cell_type": "code",
   "execution_count": null,
   "metadata": {
    "collapsed": false
   },
   "outputs": [],
   "source": [
    "for tag in soup.find_all('span', 'mdCMN09Image'):\n",
    "    print(tag['style'])"
   ]
  },
  {
   "cell_type": "markdown",
   "metadata": {},
   "source": [
    "## Extract stickers URL"
   ]
  },
  {
   "cell_type": "code",
   "execution_count": null,
   "metadata": {
    "collapsed": false
   },
   "outputs": [],
   "source": [
    "line_stickers = []\n",
    "\n",
    "for tag in soup.find_all('span', 'mdCMN09Image'):\n",
    "    style = tag['style']\n",
    "    l_parentheses = style.rfind('(') + 1\n",
    "    r_parentheses = style.rfind(')')\n",
    "    path = style[l_parentheses:r_parentheses]\n",
    "    line_stickers.append(path)\n",
    "    print(path)"
   ]
  },
  {
   "cell_type": "markdown",
   "metadata": {},
   "source": [
    "## Download stickers"
   ]
  },
  {
   "cell_type": "code",
   "execution_count": null,
   "metadata": {
    "collapsed": false
   },
   "outputs": [],
   "source": [
    "line_stickers"
   ]
  },
  {
   "cell_type": "code",
   "execution_count": null,
   "metadata": {
    "collapsed": true
   },
   "outputs": [],
   "source": [
    "import os\n",
    "import requests"
   ]
  },
  {
   "cell_type": "code",
   "execution_count": null,
   "metadata": {
    "collapsed": false
   },
   "outputs": [],
   "source": [
    "soup.title.text.split('-')[0].strip()"
   ]
  },
  {
   "cell_type": "code",
   "execution_count": null,
   "metadata": {
    "collapsed": false
   },
   "outputs": [],
   "source": [
    "title = soup.title.text.split('-')[0].strip()\n",
    "if not os.path.exists(title):\n",
    "    os.mkdir(title)"
   ]
  },
  {
   "cell_type": "code",
   "execution_count": null,
   "metadata": {
    "collapsed": false
   },
   "outputs": [],
   "source": [
    "for url in line_stickers:\n",
    "    local_filename = url.split('/')[-1]\n",
    "    response = requests.get(url, stream=True)\n",
    "    with open(os.path.join(title, local_filename), 'wb') as f:\n",
    "        for chunk in response.iter_content(chunk_size=1024):\n",
    "            if chunk:\n",
    "                f.write(chunk)\n",
    "    print('%s Downloaded!' % local_filename)\n",
    "print('Completed!')"
   ]
  },
  {
   "cell_type": "code",
   "execution_count": null,
   "metadata": {
    "collapsed": false
   },
   "outputs": [],
   "source": [
    "ls"
   ]
  },
  {
   "cell_type": "code",
   "execution_count": null,
   "metadata": {
    "collapsed": false
   },
   "outputs": [],
   "source": [
    "ls 熊大＆兔兔（跟我玩嘛☆恩愛篇）/"
   ]
  },
  {
   "cell_type": "code",
   "execution_count": null,
   "metadata": {
    "collapsed": true
   },
   "outputs": [],
   "source": [
    "!open ."
   ]
  },
  {
   "cell_type": "code",
   "execution_count": null,
   "metadata": {
    "collapsed": true
   },
   "outputs": [],
   "source": []
  }
 ],
 "metadata": {
  "kernelspec": {
   "display_name": "Python 3",
   "language": "python",
   "name": "python3"
  },
  "language_info": {
   "codemirror_mode": {
    "name": "ipython",
    "version": 3
   },
   "file_extension": ".py",
   "mimetype": "text/x-python",
   "name": "python",
   "nbconvert_exporter": "python",
   "pygments_lexer": "ipython3",
   "version": "3.5.1"
  }
 },
 "nbformat": 4,
 "nbformat_minor": 0
}
