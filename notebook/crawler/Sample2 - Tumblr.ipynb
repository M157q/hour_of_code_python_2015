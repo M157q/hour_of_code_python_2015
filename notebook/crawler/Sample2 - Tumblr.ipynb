{
 "cells": [
  {
   "cell_type": "markdown",
   "metadata": {},
   "source": [
    "# Sample2 - Tumblr using API"
   ]
  },
  {
   "cell_type": "markdown",
   "metadata": {},
   "source": [
    "## Requirment"
   ]
  },
  {
   "cell_type": "code",
   "execution_count": null,
   "metadata": {
    "collapsed": false
   },
   "outputs": [],
   "source": [
    "# installation\n",
    "!pip install --user git+https://github.com/dianakhuang/pytumblr.git@diana/python-3-support"
   ]
  },
  {
   "cell_type": "markdown",
   "metadata": {},
   "source": [
    "---\n",
    "\n",
    "---\n",
    "\n",
    "---"
   ]
  },
  {
   "cell_type": "markdown",
   "metadata": {},
   "source": [
    "## Get Authorization"
   ]
  },
  {
   "cell_type": "markdown",
   "metadata": {},
   "source": [
    "### 1. Registered as a Tumblr member\n",
    "\n",
    "### 2. Go to Tumblr API Console web page\n",
    "\n",
    "- Teaching: http://lmgtfy.com/?q=tumblr+api+console\n",
    "\n",
    "- Tumblr API Console: https://api.tumblr.com/console\n",
    "\n",
    "### 3. Click \"Or register a new application\" link\n",
    "<img src=\"images/oauth/01.png\"/>\n",
    "\n",
    "### 4. Login Tumblr\n",
    "<img src=\"images/oauth/02.png\"/>\n",
    "\n",
    "### 5. Fill in the blanks, red are required\n",
    "<img src=\"images/oauth/03.png\"/>\n",
    "\n",
    "### 6. Check box \"我不是機器人\" and Click \"註冊\"\n",
    "<img src=\"images/oauth/04.png\"/>\n",
    "\n",
    "### 7. Get Tumblr API oauth sample code, and save it!\n",
    "<img src=\"images/oauth/05.png\"/>"
   ]
  },
  {
   "cell_type": "markdown",
   "metadata": {},
   "source": [
    "---\n",
    "\n",
    "---\n",
    "\n",
    "---"
   ]
  },
  {
   "cell_type": "markdown",
   "metadata": {
    "collapsed": true
   },
   "source": [
    "# Tumblr User: codingjester"
   ]
  },
  {
   "cell_type": "markdown",
   "metadata": {
    "collapsed": true
   },
   "source": [
    "### URL: http://codingjester.tumblr.com"
   ]
  },
  {
   "cell_type": "markdown",
   "metadata": {},
   "source": [
    "## codingjester's Posts and URL"
   ]
  },
  {
   "cell_type": "markdown",
   "metadata": {},
   "source": [
    "2015-10-14 14:00:21 GMT\n",
    "https://49.media.tumblr.com/5bbfd7bb60504d3cd8088d8fcd342b61/tumblr_ntm93aYvF51rmehl4o1_1280.gif\n",
    "<img src=\"images/tumblr/tumblr_ntm93aYvF51rmehl4o1_1280.gif\"/>\n",
    "\n",
    "2015-10-13 23:47:18 GMT\n",
    "https://49.media.tumblr.com/340f2ae5c9fffc92879e6d1ca08b71d2/tumblr_nvge7uKDxU1upvs5eo1_500.gif\n",
    "<img src=\"images/tumblr/tumblr_nvge7uKDxU1upvs5eo1_500.gif\"/>\n",
    "\n",
    "2015-10-08 01:55:32 GMT\n",
    "https://41.media.tumblr.com/34499cfc1ce7f8b435bb01100ead14fc/tumblr_nvumceb40K1roll6uo1_1280.jpg\n",
    "<img src=\"images/tumblr/tumblr_nvumceb40K1roll6uo1_1280.jpg\"/>\n",
    "\n",
    "2015-10-07 01:56:35 GMT\n",
    "https://41.media.tumblr.com/73fbd3fb83833b563c1705cbf2653b05/tumblr_nvttq7Y4AO1s9x8i6o1_1280.jpg\n",
    "<img src=\"images/tumblr/tumblr_nvttq7Y4AO1s9x8i6o1_1280.jpg\"/>\n",
    "\n",
    "2015-10-06 23:14:11 GMT\n",
    "https://49.media.tumblr.com/662d48418a2b9286d9947131f94e2951/tumblr_mwui2jsYrS1qcr7fqo1_500.gif\n",
    "<img src=\"images/tumblr/tumblr_mwui2jsYrS1qcr7fqo1_500.gif\"/>\n",
    "\n",
    "2015-09-26 16:47:40 GMT\n",
    "https://45.media.tumblr.com/7336fff8fe2098c224f777216d3e7426/tumblr_nv8cbuz3Dt1qejjfeo1_500.gif\n",
    "<img src=\"images/tumblr/tumblr_nv8cbuz3Dt1qejjfeo1_500.gif\"/>\n",
    "\n",
    "2015-09-14 04:40:11 GMT\n",
    "https://45.media.tumblr.com/6cbbf7e664d8cdf157dfb1676b58b6ce/tumblr_nun3b0wsyh1qz4u07o1_500.gif\n",
    "<img src=\"images/tumblr/tumblr_nun3b0wsyh1qz4u07o1_500.gif\"/>\n",
    "\n",
    "2015-08-28 23:46:16 GMT\n",
    "https://49.media.tumblr.com/131f9595f1a1cdbaac447c917f686122/tumblr_ntb6bozt7s1qd7ro1o1_540.gif\n",
    "<img src=\"images/tumblr/tumblr_ntb6bozt7s1qd7ro1o1_540.gif\"/>\n",
    "\n",
    "2015-08-25 12:54:50 GMT\n",
    "https://49.media.tumblr.com/3f8bc3cb4df968675dc2b76e791cfe17/tumblr_nsfudgIB1M1sznfdio1_500.gif\n",
    "<img src=\"images/tumblr/tumblr_nsfudgIB1M1sznfdio1_500.gif\"/>\n",
    "\n",
    "2015-08-18 14:41:50 GMT\n",
    "https://49.media.tumblr.com/96f44dc0add3709351d091f12954b5b7/tumblr_mshjmvZQT61rr2m16o1_400.gif\n",
    "<img src=\"images/tumblr/tumblr_mshjmvZQT61rr2m16o1_400.gif\"/>\n",
    "\n",
    "2015-08-18 02:40:29 GMT\n",
    "https://36.media.tumblr.com/9d50dbd44a910d89f179f1bb6ff9c88c/tumblr_nt9bfhpPUW1qg0jdoo1_1280.jpg\n",
    "<img src=\"images/tumblr/\"/>\n",
    "\n",
    "2015-08-01 17:36:50 GMT\n",
    "https://41.media.tumblr.com/6c59991dc4d122dfd448442960884fdd/tumblr_nsezle8otH1qg0jdoo1_1280.png\n",
    "<img src=\"images/tumblr/tumblr_nt9bfhpPUW1qg0jdoo1_1280.jpg\"/>\n",
    "\n",
    "2015-07-16 18:06:06 GMT\n",
    "https://40.media.tumblr.com/a562df07b8a8aee9a4cb7ac493ec8cfb/tumblr_nrlea6QxSK1qg0jdoo1_1280.jpg\n",
    "<img src=\"images/tumblr/tumblr_nrlea6QxSK1qg0jdoo1_1280.jpg\"/>\n",
    "\n",
    "2015-06-24 23:21:27 GMT\n",
    "https://40.media.tumblr.com/a9068ad28a2e09eace7cf2fc142501f7/tumblr_nqh1zeqALq1tlllqgo1_1280.jpg\n",
    "<img src=\"images/tumblr/tumblr_nqh1zeqALq1tlllqgo1_1280.jpg\"/>\n",
    "\n",
    "2015-06-15 14:44:43 GMT\n",
    "https://49.media.tumblr.com/fe7d36386e1f7787becc4bbb9774277c/tumblr_npznqti8YL1qzpn6vo1_500.gif\n",
    "<img src=\"images/tumblr/tumblr_npznqti8YL1qzpn6vo1_500.gif\"/>\n",
    "\n",
    "2015-06-04 19:28:04 GMT\n",
    "https://41.media.tumblr.com/e921a11ab507f5298b8036378be01fa4/tumblr_npfq2sNpnL1qg0jdoo1_1280.jpg\n",
    "<img src=\"images/tumblr/tumblr_npfq2sNpnL1qg0jdoo1_1280.jpg\"/>\n",
    "\n",
    "2015-06-04 13:45:16 GMT\n",
    "https://45.media.tumblr.com/1a38d3e980efc5d8f43603a605b78b99/tumblr_nlkf5uphoC1qcjmr3o1_500.gif\n",
    "<img src=\"images/tumblr/tumblr_nlkf5uphoC1qcjmr3o1_500.gif\"/>\n",
    "\n",
    "2015-06-02 13:16:08 GMT\n",
    "https://45.media.tumblr.com/bb409bcdb9b807e94933051c4a9c1ff3/tumblr_n0t7teqLIg1sg1fh4o1_500.gif\n",
    "<img src=\"images/tumblr/tumblr_n0t7teqLIg1sg1fh4o1_500.gif\"/>\n",
    "\n",
    "2015-06-02 00:39:33 GMT\n",
    "https://45.media.tumblr.com/159e8821c185aabe82bf1defc1ee1827/tumblr_n9ugz2zMq71r650nko1_500.gif\n",
    "<img src=\"images/tumblr/tumblr_n9ugz2zMq71r650nko1_500.gif\"/>\n"
   ]
  },
  {
   "cell_type": "markdown",
   "metadata": {},
   "source": [
    "---\n",
    "\n",
    "---\n",
    "\n",
    "---"
   ]
  },
  {
   "cell_type": "markdown",
   "metadata": {},
   "source": [
    "## Quick start"
   ]
  },
  {
   "cell_type": "markdown",
   "metadata": {
    "collapsed": true
   },
   "source": [
    "### Import necessary library"
   ]
  },
  {
   "cell_type": "code",
   "execution_count": null,
   "metadata": {
    "collapsed": false
   },
   "outputs": [],
   "source": [
    "import pytumblr\n",
    "from tumblr_auth import consumer_key, consumer_secret, oauth_token, oauth_secret"
   ]
  },
  {
   "cell_type": "markdown",
   "metadata": {
    "collapsed": true
   },
   "source": [
    "### Using Authorization sample code get to start"
   ]
  },
  {
   "cell_type": "markdown",
   "metadata": {},
   "source": [
    "<img src=\"images/oauth/05.png\"/>"
   ]
  },
  {
   "cell_type": "code",
   "execution_count": null,
   "metadata": {
    "collapsed": false
   },
   "outputs": [],
   "source": [
    "client = pytumblr.TumblrRestClient(\n",
    "    consumer_key,\n",
    "    consumer_secret,\n",
    "    oauth_token,\n",
    "    oauth_secret,\n",
    ")"
   ]
  },
  {
   "cell_type": "markdown",
   "metadata": {
    "collapsed": true
   },
   "source": [
    "### Set Tumblr user"
   ]
  },
  {
   "cell_type": "code",
   "execution_count": null,
   "metadata": {
    "collapsed": true
   },
   "outputs": [],
   "source": [
    "tumblr_user = \"codingjester\""
   ]
  },
  {
   "cell_type": "markdown",
   "metadata": {
    "collapsed": true
   },
   "source": [
    "### Get user posts"
   ]
  },
  {
   "cell_type": "code",
   "execution_count": null,
   "metadata": {
    "collapsed": false
   },
   "outputs": [],
   "source": [
    "posts = client.posts(tumblr_user)\n",
    "for post in posts.get('posts'):\n",
    "    if not post.get('photos'):\n",
    "        continue\n",
    "    data = post.get('photos')[0]\n",
    "    print(post.get('date'))\n",
    "    print(data['original_size']['url'])"
   ]
  },
  {
   "cell_type": "markdown",
   "metadata": {
    "collapsed": false
   },
   "source": [
    "# Reference:\n",
    "## API Source code: \n",
    "> ### https://github.com/tumblr/pytumblr Python2\n",
    "> ### https://github.com/dianakhuang/pytumblr Python3"
   ]
  },
  {
   "cell_type": "code",
   "execution_count": null,
   "metadata": {
    "collapsed": true
   },
   "outputs": [],
   "source": []
  }
 ],
 "metadata": {
  "kernelspec": {
   "display_name": "Python 3",
   "language": "python",
   "name": "python3"
  },
  "language_info": {
   "codemirror_mode": {
    "name": "ipython",
    "version": 3
   },
   "file_extension": ".py",
   "mimetype": "text/x-python",
   "name": "python",
   "nbconvert_exporter": "python",
   "pygments_lexer": "ipython3",
   "version": "3.5.0"
  }
 },
 "nbformat": 4,
 "nbformat_minor": 0
}
