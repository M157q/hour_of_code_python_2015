{
 "cells": [
  {
   "cell_type": "markdown",
   "metadata": {
    "slideshow": {
     "slide_type": "slide"
    }
   },
   "source": [
    "# Prerequisite\n",
    "\n",
    "Before the hour of code, we expect you\n",
    "\n",
    "- have installed the lastest conda (recommand) \n",
    "- have installed the lates python2.7 , pip"
   ]
  },
  {
   "cell_type": "markdown",
   "metadata": {
    "slideshow": {
     "slide_type": "slide"
    }
   },
   "source": [
    "\n",
    "# conda installation\n",
    "\n",
    "You can follow this official installation [guide](http://conda.pydata.org/docs/installation.html).\n",
    "\n",
    "## windows\n",
    "\n",
    "Download the Miniconda installer exe file.\n",
    "\n",
    "Double click that exe flie and follow the instructions.\n",
    "\n",
    "## Mac, Linux\n",
    "\n",
    "Dowanload the bash installer script and excute it in your terminal.\n"
   ]
  },
  {
   "cell_type": "markdown",
   "metadata": {
    "slideshow": {
     "slide_type": "slide"
    }
   },
   "source": [
    "\n",
    "# pip installation\n",
    "\n",
    "If you use conda to install python, pip comes with it.\n",
    "\n",
    "For other cases,\n",
    "you may have pip installed on your system\n",
    "since pip is included after Python2.7.9 and Python 3.4.\n",
    "\n",
    "If you don't have pip,\n",
    "you can manually install it via this link\n",
    "[pip Installation](http://pip.readthedocs.org/en/stable/installing/)."
   ]
  }
 ],
 "metadata": {
  "celltoolbar": "Slideshow",
  "kernelspec": {
   "display_name": "Python 2",
   "language": "python",
   "name": "python2"
  },
  "language_info": {
   "codemirror_mode": {
    "name": "ipython",
    "version": 2
   },
   "file_extension": ".py",
   "mimetype": "text/x-python",
   "name": "python",
   "nbconvert_exporter": "python",
   "pygments_lexer": "ipython2",
   "version": "2.7.10"
  }
 },
 "nbformat": 4,
 "nbformat_minor": 0
}
