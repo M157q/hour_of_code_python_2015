{
 "cells": [
  {
   "cell_type": "markdown",
   "metadata": {
    "slideshow": {
     "slide_type": "slide"
    }
   },
   "source": [
    "# Prerequisite\n",
    "\n",
    "## Target audience\n",
    "\n",
    "We assume you know\n",
    "\n",
    "- the basic concepts of programming\n",
    "    + variable\n",
    "    + basic type\n",
    "    + Control Structures\n",
    "    + function\n",
    "\n",
    "- basic HTML knowledge ( since we want to make a web crawler )\n",
    "\n",
    "\n",
    "## System requirement\n",
    "\n",
    "\n",
    "Before the hour of code, we expect you\n",
    "\n",
    "- have installed the lastest conda (recommand) \n",
    "- have installed the latest python2.7 , pip"
   ]
  },
  {
   "cell_type": "markdown",
   "metadata": {
    "slideshow": {
     "slide_type": "slide"
    }
   },
   "source": [
    "\n",
    "# conda installation\n",
    "\n",
    "You can follow this official installation [guide](http://conda.pydata.org/docs/installation.html).\n",
    "\n",
    "## windows\n",
    "\n",
    "Download the Miniconda installer exe file.\n",
    "\n",
    "Double click that exe flie and follow the instructions.\n",
    "\n",
    "## Mac, Linux\n",
    "\n",
    "Dowanload the bash installer script and excute it in your terminal.\n"
   ]
  },
  {
   "cell_type": "markdown",
   "metadata": {
    "slideshow": {
     "slide_type": "slide"
    }
   },
   "source": [
    "\n",
    "# pip installation\n",
    "\n",
    "If you use conda to install python, pip comes with it.\n",
    "\n",
    "For other cases,\n",
    "you may have pip installed on your system\n",
    "since pip is included after Python2.7.9 and Python 3.4.\n",
    "\n",
    "If you don't have pip,\n",
    "you can manually install it via this link\n",
    "[pip Installation](http://pip.readthedocs.org/en/stable/installing/)."
   ]
  },
  {
   "cell_type": "markdown",
   "metadata": {},
   "source": [
    "# Why Python - Life is short, you need Python.\n",
    "\n",
    "\n",
    "## Python is easy to learn and use\n",
    "  + Simpler syntax\n",
    "  + Readable pseudo-code\n",
    "  + Expressive and succinct\n",
    "\n",
    "## General-purpose\n",
    "\n",
    "  + [Extensive Libraries](https://github.com/vinta/awesome-python)\n",
    "\n",
    "## Quick/Rapid prototype\n",
    "\n",
    "## Strong/Active community\n",
    "\n",
    "## Python is free\n",
    "\n",
    "\n",
    "## Python is Fun"
   ]
  },
  {
   "cell_type": "markdown",
   "metadata": {
    "collapsed": false
   },
   "source": [
    "# Develop Tool\n",
    "\n",
    "\n",
    "## Editor\n",
    "\n",
    "[Sublime Text](http://www.sublimetext.com/)\n",
    "\n",
    "## IDE\n",
    "\n",
    "[PyCharm](https://www.jetbrains.com/pycharm/)\n",
    "\n",
    "\n",
    "## Terminal - pwd, ls, cd\n",
    "\n",
    " - [cmder](http://cmder.net/) Windows\n",
    "\n",
    " - [iTerm2](https://www.iterm2.com/) Mac\n",
    "\n"
   ]
  }
 ],
 "metadata": {
  "celltoolbar": "Slideshow",
  "kernelspec": {
   "display_name": "Python 2",
   "language": "python",
   "name": "python2"
  },
  "language_info": {
   "codemirror_mode": {
    "name": "ipython",
    "version": 2
   },
   "file_extension": ".py",
   "mimetype": "text/x-python",
   "name": "python",
   "nbconvert_exporter": "python",
   "pygments_lexer": "ipython2",
   "version": "2.7.10"
  }
 },
 "nbformat": 4,
 "nbformat_minor": 0
}
