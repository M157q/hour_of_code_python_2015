{
 "cells": [
  {
   "cell_type": "markdown",
   "metadata": {
    "slideshow": {
     "slide_type": "slide"
    }
   },
   "source": [
    "## Target audience\n",
    "\n",
    "We assume you know\n",
    "\n",
    "- the basic concepts of programming\n",
    "    + variable\n",
    "    + basic type\n",
    "    + Control Structures\n",
    "    + function\n",
    "\n",
    "- basic HTML knowledge \n",
    "  since we want to make a web crawler\n",
    "\n",
    "-  little knowledge about shell commands (pwd, ls, cd)"
   ]
  },
  {
   "cell_type": "markdown",
   "metadata": {
    "slideshow": {
     "slide_type": "slide"
    }
   },
   "source": [
    "# Prerequisite - System requirement\n",
    "\n",
    "\n",
    "Before the hour of code, we expect you\n",
    "\n",
    "- have installed the lastest conda\n",
    "  + have installed the latest python3.5 , pip\n",
    "\n",
    "- Prepare [cmder](http://cmder.net/) ( Windows Only )\n"
   ]
  },
  {
   "cell_type": "markdown",
   "metadata": {
    "slideshow": {
     "slide_type": "slide"
    }
   },
   "source": [
    "\n",
    "# Conda installation\n",
    "\n",
    "Conda is a cross-platform package manger and enviroment manager.\n",
    "\n",
    "[conda - exe installer, bash installer](http://conda.pydata.org/miniconda.html)\n",
    "\n",
    "You can follow this official installation [guide](http://conda.pydata.org/docs/installation.html).\n",
    "\n",
    "Conda make it easy to install third libraries, which are often a platform-dependent C, C++, or Fortran code.\n",
    "\n",
    "```\n",
    "$ # pip install lxml\n",
    "$ conda install lxml\n",
    "\n",
    "$ # pip install numpy\n",
    "$ conda install numpy\n",
    "```\n"
   ]
  },
  {
   "cell_type": "markdown",
   "metadata": {
    "slideshow": {
     "slide_type": "subslide"
    }
   },
   "source": [
    "\n",
    "## Conda installation\n",
    "\n",
    "### Windows\n",
    "\n",
    "Download the Miniconda installer [exe file](http://conda.pydata.org/miniconda.html).\n",
    "\n",
    "Double click that exe flie and follow the instructions.\n",
    "\n",
    "\n",
    "## Mac\n",
    "\n",
    "Dowanload the bash installer [script](http://conda.pydata.org/miniconda.html) and excute it in your terminal.\n",
    "\n"
   ]
  },
  {
   "cell_type": "markdown",
   "metadata": {
    "slideshow": {
     "slide_type": "subslide"
    }
   },
   "source": [
    "\n",
    "### Cmder - Windows Only\n",
    "\n",
    "[Cmder](http://cmder.net/) - A Beautiful, Functional And Portable Windows Console\n",
    "\n",
    "- Portable \n",
    "  Self-contained with no external dependencies\n",
    "\n",
    "- Unix tools on windows if decide to use the slightly bigger msysgit version (with git for windows)\n",
    "\n",
    "You may add **Git Bash** task.\n",
    "\n",
    "For example:\n",
    "\n",
    "    \"\"C:\\Users\\ming\\Documents\\cmder\\vendor\\msysgit\\bin\\sh\" --login -i\"\n",
    "\n",
    "\n",
    "\n"
   ]
  },
  {
   "cell_type": "markdown",
   "metadata": {
    "slideshow": {
     "slide_type": "slide"
    }
   },
   "source": [
    "### Terminal - pwd, ls, cd\n",
    "\n",
    "pwd - print the current directory\n",
    "\n",
    "ls - print the files and working direcotries under the current direcotry\n",
    "\n",
    "cd /path/to/some/direcotry - change directory to /path/to/some/direcotry\n",
    "\n",
    "\n"
   ]
  },
  {
   "cell_type": "markdown",
   "metadata": {
    "slideshow": {
     "slide_type": "subslide"
    }
   },
   "source": [
    "#### Exercise\n",
    "\n",
    "Open your terminal, type\n",
    "\n",
    "```\n",
    "$ pwd\n",
    "\n",
    "$ ls\n",
    "\n",
    "$ cd \n",
    "$ cd ..\n",
    "$ cd ../..\n",
    "$ cd -\n",
    "\n",
    "$ python\n",
    "\n",
    "$ which python\n",
    "```"
   ]
  },
  {
   "cell_type": "markdown",
   "metadata": {
    "slideshow": {
     "slide_type": "slide"
    }
   },
   "source": [
    "# Hour of code - Conda environment setting\n",
    "\n",
    "Open your terminal, type\n",
    "\n",
    "```\n",
    "Create a clean conda environment: hour_of_code\n",
    "$ conda create -n hour_of_code python=3 # First-time setup\n",
    "\n",
    "$ conda info -e\n",
    "\n",
    "Enter the hour_of_code environment\n",
    "$ source activate hour_of_code # Linux, OS X\n",
    "$ activate hour_of_code # Windows\n",
    "\n",
    "... Operation in hour_of_code env\n",
    "$ conda install jupyter # install jupyter notebook in the hour_fo_code env\n",
    "... Operation in hour_of_code env\n",
    "... Operation in hour_of_code env\n",
    "\n",
    "Leave the hour_of_code environment\n",
    "$ source deactivate # Linux, OS X\n",
    "$ deactivate  # Windows\n",
    "```\n",
    "\n",
    "**Dangerous**: Remove the hour_of_code environment\n",
    "\n",
    "\n",
    "```\n",
    "$ conda env remove -n hour_of_code environment\n",
    "```\n"
   ]
  },
  {
   "cell_type": "markdown",
   "metadata": {
    "slideshow": {
     "slide_type": "subslide"
    }
   },
   "source": [
    "#### Exercise\n",
    "\n",
    "Open your terminal, type\n",
    "\n",
    "```\n",
    "$ conda info -e\n",
    "\n",
    "$ source activate root # Linux, OS X\n",
    "$ activate root # Windows\n",
    "\n",
    "$ which python\n",
    "\n",
    "$ $ source activate hour_of_code # Linux, OS X\n",
    "$ activate hour_of_code # Windows\n",
    "\n",
    "$ which python\n",
    "\n",
    "```"
   ]
  },
  {
   "cell_type": "markdown",
   "metadata": {
    "slideshow": {
     "slide_type": "slide"
    }
   },
   "source": [
    "# Why Python - Life is short, you need Python.\n",
    "\n",
    "- Python is easy to learn and use\n",
    "- General-purpose\n",
    "- Quick/Rapid prototype\n",
    "- Strong/Active community\n",
    "- Python is Free\n",
    "- Python is Fun\n"
   ]
  },
  {
   "cell_type": "markdown",
   "metadata": {
    "slideshow": {
     "slide_type": "subslide"
    }
   },
   "source": [
    "# Python is easy to learn and use\n",
    "\n",
    "  + Simpler syntax\n",
    "  + Readable pseudo-code\n",
    "  + Expressive and succinct\n"
   ]
  },
  {
   "cell_type": "markdown",
   "metadata": {
    "slideshow": {
     "slide_type": "subslide"
    }
   },
   "source": [
    "# General-purpose\n",
    "\n",
    "  + [Extensive Libraries](https://github.com/vinta/awesome-python)\n",
    "\n",
    "1. Web development (django, flask, ...)\n",
    "\n",
    "2. Networking (socket, zeromq, ...)\n",
    "\n",
    "3. Graphical interfaces (tkinter, pyqt, ...)\n",
    "\n",
    "4. Scripting operating system tasks (os, ...)\n",
    "\n",
    "5. Games (pygame, ...)\n",
    "\n",
    "6. Data processing (pandas, ...)\n",
    "\n",
    "7. Business applications (....)\n",
    "\n"
   ]
  },
  {
   "cell_type": "markdown",
   "metadata": {
    "slideshow": {
     "slide_type": "subslide"
    }
   },
   "source": [
    "# Python Community in Taiwan\n",
    "\n",
    "Taipei.py - [Taipei Python User Group](http://www.meetup.com/Taipei-py/)\n",
    "\n",
    "PyHUG - [Python Hsinchu User Group](http://www.meetup.com/pythonhug/)\n",
    "\n",
    "[PyLadies Taiwan](http://www.meetup.com/PyLadiesTW/)\n",
    "\n",
    "[Tainan.py - Python Tainan User Group](http://www.meetup.com/Tainan-py-Python-Tainan-User-Group/)\n",
    "\n",
    "[Kaohsiung.py - Kaohsiung Python User Group](http://www.meetup.com/Kaohsiung-Python-Meetup)\n",
    "\n",
    "[Taichung.py - Taichung Python User Group](http://www.meetup.com/Taichung-Python-Meetup/)\n",
    "\n",
    "[Django Girls Taipei](https://djangogirls.org/taipei/)\n",
    "\n",
    "[Hualien.py - Hualien Python User Group](http://www.meetup.com/Hualien-Py/)\n"
   ]
  },
  {
   "cell_type": "markdown",
   "metadata": {
    "slideshow": {
     "slide_type": "subslide"
    }
   },
   "source": [
    "\n",
    "# Why Python - Life is short, you need Python.\n",
    "\n",
    "\n",
    "\n",
    "- Quick/Rapid prototype\n",
    "\n",
    "- Python is Free\n",
    "\n",
    "    matlab?\n",
    "\n",
    "    numpy, scipy, matplotlib\n",
    "\n",
    "- Python is Fun"
   ]
  },
  {
   "cell_type": "markdown",
   "metadata": {
    "slideshow": {
     "slide_type": "skip"
    }
   },
   "source": [
    "# Python2 or Python3\n",
    "\n",
    "The end of life of Python2.7 is 2020.\n",
    "\n",
    "[What's REALLY New in Python 3](http://migrateup.com/whats-really-new-in-python-3/?utm_campaign=CodeTengu&amp;utm_medium=web&amp;utm_source=CodeTengu_14)\n",
    "\n",
    "#### Library compatibility with Python 3?\n",
    "\n",
    "Choose a version comes down to the libraries you need\n",
    "\n",
    "For example,\n",
    "\n",
    "[tumblr/pytumblr](https://github.com/tumblr/pytumblr): A Python Tumblr API v2 Client\n",
    "    \n",
    "It [does not](https://github.com/tumblr/pytumblr/blob/master/.travis.yml) support Python3 currently.\n",
    "\n",
    "Fortunately, there is [a pull request for supporting Python3](https://github.com/tumblr/pytumblr/issues/51).\n"
   ]
  },
  {
   "cell_type": "markdown",
   "metadata": {
    "collapsed": false,
    "slideshow": {
     "slide_type": "skip"
    }
   },
   "source": [
    "# Develop Tool\n",
    "\n",
    "\n",
    "## Editor\n",
    "\n",
    "[Sublime Text](http://www.sublimetext.com/)\n",
    "\n",
    "## IDE\n",
    "\n",
    "[PyCharm](https://www.jetbrains.com/pycharm/)\n",
    "\n",
    "\n",
    "## Terminal - pwd, ls, cd\n",
    "\n",
    " - [cmder](http://cmder.net/) Windows\n",
    "\n",
    " - [iTerm2](https://www.iterm2.com/) Mac\n",
    "\n",
    "\n",
    "pwd, cd, ls, cat, which,\n",
    "git, ssh"
   ]
  },
  {
   "cell_type": "markdown",
   "metadata": {
    "slideshow": {
     "slide_type": "slide"
    }
   },
   "source": [
    "# Any Question?\n",
    "\n",
    "Feel free to ask any questions about Python\n",
    "on [Python 台灣愛好者群組](https://groups.google.com/forum/#!forum/pythontw)."
   ]
  }
 ],
 "metadata": {
  "celltoolbar": "Slideshow",
  "kernelspec": {
   "display_name": "Python 3",
   "language": "python",
   "name": "python3"
  },
  "language_info": {
   "codemirror_mode": {
    "name": "ipython",
    "version": 3
   },
   "file_extension": ".py",
   "mimetype": "text/x-python",
   "name": "python",
   "nbconvert_exporter": "python",
   "pygments_lexer": "ipython3",
   "version": "3.5.1"
  }
 },
 "nbformat": 4,
 "nbformat_minor": 0
}
