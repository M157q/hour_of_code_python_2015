{
 "cells": [
  {
   "cell_type": "markdown",
   "metadata": {
    "slideshow": {
     "slide_type": "slide"
    }
   },
   "source": [
    "# Prerequisite\n",
    "\n",
    "## Target audience\n",
    "\n",
    "We assume you know\n",
    "\n",
    "- the basic concepts of programming\n",
    "    + variable\n",
    "    + basic type\n",
    "    + Control Structures\n",
    "    + function\n",
    "\n",
    "- basic HTML knowledge ( since we want to make a web crawler )\n",
    "\n",
    "\n",
    "## System requirement\n",
    "\n",
    "\n",
    "Before the hour of code, we expect you\n",
    "\n",
    "- have installed the lastest conda (recommand) \n",
    "- have installed the latest python2.7 , pip\n",
    "\n",
    "- Prepare [cmder](http://cmder.net/) ( Windows Only )"
   ]
  },
  {
   "cell_type": "markdown",
   "metadata": {
    "slideshow": {
     "slide_type": "slide"
    }
   },
   "source": [
    "\n",
    "# conda installation\n",
    "\n",
    "You can follow this official installation [guide](http://conda.pydata.org/docs/installation.html).\n",
    "\n",
    "## windows\n",
    "\n",
    "Download the Miniconda installer exe file.\n",
    "\n",
    "Double click that exe flie and follow the instructions.\n",
    "\n",
    "## Mac, Linux\n",
    "\n",
    "Dowanload the bash installer script and excute it in your terminal.\n"
   ]
  },
  {
   "cell_type": "markdown",
   "metadata": {},
   "source": [
    "# Exercise\n",
    "\n",
    "(1) Install conda\n",
    "\n",
    "~~~\n",
    "$ conda --version\n",
    "~~~\n",
    "\n",
    "(2) Run the following commands in your terminal.\n",
    "\n",
    "```\n",
    "$ conda info -e\n",
    "\n",
    "$ conda create -n test_env python=2\n",
    "\n",
    "$ which speedtest-cli\n",
    "\n",
    "$ source activate test_env\n",
    "\n",
    "$ pip install speedtest-cli\n",
    "\n",
    "$ which speedtest-cli\n",
    "\n",
    "$ source deactivate\n",
    "\n",
    "$ which speedtest-cli\n",
    "\n",
    "$ conda info -e\n",
    "\n",
    "$ conda env remove -n test_env\n",
    "\n",
    "$ conda info -e\n",
    "```"
   ]
  },
  {
   "cell_type": "markdown",
   "metadata": {
    "slideshow": {
     "slide_type": "slide"
    }
   },
   "source": [
    "\n",
    "# pip installation\n",
    "\n",
    "If you use conda to install python, pip comes with it.\n",
    "\n",
    "For other cases,\n",
    "you may have pip installed on your system\n",
    "since pip is included after Python2.7.9 and Python 3.4.\n",
    "\n",
    "If you don't have pip,\n",
    "you can manually install it via this link\n",
    "[pip Installation](http://pip.readthedocs.org/en/stable/installing/)."
   ]
  },
  {
   "cell_type": "markdown",
   "metadata": {},
   "source": [
    "# Exercise\n",
    "\n",
    "## pip - Run the follwing commands\n",
    "\n",
    "```\n",
    "$ pip freeze\n",
    "\n",
    "$ pip install ipython\n",
    "\n",
    "$ pip insatll virtualenv\n",
    "\n",
    "$ pip uninstall ipython # optional\n",
    "\n",
    "```\n",
    "\n",
    "## virtualenv -  Run the follwing commands\n",
    "\n",
    "```\n",
    "$ cd ~\n",
    "\n",
    "$ virtualenv test_env\n",
    "\n",
    "$ source test_env/bin/activate\n",
    "\n",
    "$ pip freeze\n",
    "$ pip install speedtest-cli\n",
    "$ speedtest-cli\n",
    "$ pip freeze\n",
    "\n",
    "$ deactivate\n",
    "\n",
    "$ cd ~\n",
    "$ rm -rf test_env\n",
    "```\n"
   ]
  },
  {
   "cell_type": "markdown",
   "metadata": {},
   "source": [
    "# Why Python - Life is short, you need Python.\n",
    "\n",
    "\n",
    "## Python is easy to learn and use\n",
    "  + Simpler syntax\n",
    "  + Readable pseudo-code\n",
    "  + Expressive and succinct\n",
    "\n",
    "## General-purpose\n",
    "\n",
    "  + [Extensive Libraries](https://github.com/vinta/awesome-python)\n",
    "\n",
    "## Quick/Rapid prototype\n",
    "\n",
    "## Strong/Active community\n",
    "\n",
    "## Python is free\n",
    "\n",
    "\n",
    "## Python is Fun"
   ]
  },
  {
   "cell_type": "markdown",
   "metadata": {},
   "source": [
    "# Python2 or Python3\n",
    "\n",
    "\n",
    "## Library compatibility with Python 3?\n",
    "\n",
    "Choose a version comes down to the libraries you need\n",
    "\n",
    "The end of life of Python2.7 is 2020."
   ]
  },
  {
   "cell_type": "markdown",
   "metadata": {
    "collapsed": false
   },
   "source": [
    "# Develop Tool\n",
    "\n",
    "\n",
    "## Editor\n",
    "\n",
    "[Sublime Text](http://www.sublimetext.com/)\n",
    "\n",
    "## IDE\n",
    "\n",
    "[PyCharm](https://www.jetbrains.com/pycharm/)\n",
    "\n",
    "\n",
    "## Terminal - pwd, ls, cd\n",
    "\n",
    " - [cmder](http://cmder.net/) Windows\n",
    "\n",
    " - [iTerm2](https://www.iterm2.com/) Mac\n",
    "\n",
    "\n",
    "pwd - print the current directory\n",
    "\n",
    "ls - print the files and working direcotries under the current direcotry\n",
    "\n",
    "cd /path/to/some/direcotry - change directory to /path/to/some/direcotry\n"
   ]
  },
  {
   "cell_type": "markdown",
   "metadata": {},
   "source": [
    "# Exercsie\n",
    "\n",
    "Open your termial, type the following commands\n",
    "\n",
    "```\n",
    "$ pwd\n",
    "$ ls\n",
    "\n",
    "$ cd ~\n",
    "$ pwd\n",
    "\n",
    "$ python\n",
    "```"
   ]
  }
 ],
 "metadata": {
  "celltoolbar": "Slideshow",
  "kernelspec": {
   "display_name": "Python 2",
   "language": "python",
   "name": "python2"
  },
  "language_info": {
   "codemirror_mode": {
    "name": "ipython",
    "version": 2
   },
   "file_extension": ".py",
   "mimetype": "text/x-python",
   "name": "python",
   "nbconvert_exporter": "python",
   "pygments_lexer": "ipython2",
   "version": "2.7.10"
  }
 },
 "nbformat": 4,
 "nbformat_minor": 0
}
