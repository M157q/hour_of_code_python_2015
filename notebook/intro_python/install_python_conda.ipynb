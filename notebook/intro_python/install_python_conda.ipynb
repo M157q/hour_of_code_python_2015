{
 "cells": [
  {
   "cell_type": "markdown",
   "metadata": {},
   "source": [
    "\n",
    "## Install Python\n",
    "\n",
    "- Windows\n",
    "- Linux\n",
    "- Mac\n",
    "\n",
    "There are some ways to install python.\n",
    "\n",
    "We recommend you installing [conda](http://conda.pydata.org/docs/).\n",
    "\n",
    "With conda, you can easily install python and some scientific computing and data science packages.\n",
    "\n",
    "\n",
    "#### Windows\n",
    "\n",
    "Dowload the lastest version of Python ( MSI package) from the offficial site.\n",
    "\n",
    "Double-clik the file to install python.\n",
    "\n",
    "### Mac\n",
    "\n",
    "Recent Macs come with Python installed.\n",
    "The latest version of Mac OS X, El Capitan, comes with Python 2.7.\n",
    "\n",
    "### Linux\n",
    "\n",
    "Most Linux distrbutions comes with python installed.\n",
    "\n",
    "\n",
    "## Use conda to install python\n",
    "\n",
    "Conda is a cross-platform package manger and enviroment manager.\n",
    "Conda works on Windows, Mac, Linux.\n",
    "\n",
    "Now conda provides python2.7 and python3.5.\n",
    "See [Installatino guide](http://conda.pydata.org/miniconda.html).\n",
    "\n",
    "\n",
    "\n"
   ]
  },
  {
   "cell_type": "markdown",
   "metadata": {},
   "source": [
    "\n",
    "\n",
    "\n"
   ]
  }
 ],
 "metadata": {
  "kernelspec": {
   "display_name": "Python 2",
   "language": "python",
   "name": "python2"
  },
  "language_info": {
   "codemirror_mode": {
    "name": "ipython",
    "version": 2
   },
   "file_extension": ".py",
   "mimetype": "text/x-python",
   "name": "python",
   "nbconvert_exporter": "python",
   "pygments_lexer": "ipython2",
   "version": "2.7.10"
  }
 },
 "nbformat": 4,
 "nbformat_minor": 0
}
