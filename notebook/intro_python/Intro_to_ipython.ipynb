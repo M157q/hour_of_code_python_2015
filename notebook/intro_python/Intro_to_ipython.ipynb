{
 "cells": [
  {
   "cell_type": "markdown",
   "metadata": {},
   "source": [
    "\n",
    "## [IPython](http://ipython.org/)\n",
    "\n",
    "A powerful interactive Python shell.\n",
    "\n",
    "All the following code can be run in ipython.\n",
    "\n",
    "\n",
    "If ipython is not avaible in your system, run the following command.\n",
    "```\n",
    "$ pip install ipython\n",
    "```"
   ]
  },
  {
   "cell_type": "code",
   "execution_count": 2,
   "metadata": {
    "collapsed": false
   },
   "outputs": [
    {
     "name": "stdout",
     "output_type": "stream",
     "text": [
      "/Users/ming/hour_of_code_python/notebook/intro_python\r\n"
     ]
    }
   ],
   "source": [
    "# Excute shell command\n",
    "# For example, execute pwd\n",
    "!pwd"
   ]
  },
  {
   "cell_type": "code",
   "execution_count": 3,
   "metadata": {
    "collapsed": false
   },
   "outputs": [
    {
     "name": "stdout",
     "output_type": "stream",
     "text": [
      "0_prerequisite.ipynb                           \u001b[1m\u001b[36m__pycache__\u001b[m\u001b[m\r\n",
      "1_manage_your_python_env_coda_virtualenv.ipynb hello_file\r\n",
      "2_python_quick_learning.ipynb                  install_python_conda.ipynb\r\n",
      "Intro_to_jupyter_notebook.ipynb                ipython.ipynb\r\n"
     ]
    }
   ],
   "source": [
    "# Excute ls, print the files and directories under the current direcotry\n",
    "!ls"
   ]
  },
  {
   "cell_type": "code",
   "execution_count": 4,
   "metadata": {
    "collapsed": true
   },
   "outputs": [],
   "source": [
    "!cd ~"
   ]
  },
  {
   "cell_type": "code",
   "execution_count": 5,
   "metadata": {
    "collapsed": false
   },
   "outputs": [
    {
     "name": "stdout",
     "output_type": "stream",
     "text": [
      "/Users/ming/hour_of_code_python/notebook/intro_python\r\n"
     ]
    }
   ],
   "source": [
    "!pwd"
   ]
  },
  {
   "cell_type": "code",
   "execution_count": 6,
   "metadata": {
    "collapsed": false
   },
   "outputs": [
    {
     "data": {
      "text/plain": [
       "'/Users/ming/hour_of_code_python/notebook/intro_python'"
      ]
     },
     "execution_count": 6,
     "metadata": {},
     "output_type": "execute_result"
    }
   ],
   "source": [
    "# Ipython magic commands\n",
    "\n",
    "%pwd # print the current directory"
   ]
  },
  {
   "cell_type": "code",
   "execution_count": 7,
   "metadata": {
    "collapsed": false
   },
   "outputs": [
    {
     "name": "stdout",
     "output_type": "stream",
     "text": [
      "/Users/ming\n"
     ]
    }
   ],
   "source": [
    "%cd ~"
   ]
  },
  {
   "cell_type": "code",
   "execution_count": 8,
   "metadata": {
    "collapsed": false
   },
   "outputs": [
    {
     "name": "stdout",
     "output_type": "stream",
     "text": [
      "/Users/ming\r\n"
     ]
    }
   ],
   "source": [
    "!pwd"
   ]
  },
  {
   "cell_type": "code",
   "execution_count": 9,
   "metadata": {
    "collapsed": false
   },
   "outputs": [
    {
     "name": "stdout",
     "output_type": "stream",
     "text": [
      "/Users/ming/hour_of_code_python/notebook/intro_python\n"
     ]
    }
   ],
   "source": [
    "%cd -"
   ]
  },
  {
   "cell_type": "code",
   "execution_count": 10,
   "metadata": {
    "collapsed": false
   },
   "outputs": [
    {
     "name": "stdout",
     "output_type": "stream",
     "text": [
      "0_prerequisite.ipynb                            \u001b[1m\u001b[36m__pycache__\u001b[m\u001b[m/\r\n",
      "1_manage_your_python_env_coda_virtualenv.ipynb  hello_file\r\n",
      "2_python_quick_learning.ipynb                   install_python_conda.ipynb\r\n",
      "Intro_to_jupyter_notebook.ipynb                 ipython.ipynb\r\n"
     ]
    }
   ],
   "source": [
    "%ls # list the files under the current direcotry"
   ]
  },
  {
   "cell_type": "code",
   "execution_count": 11,
   "metadata": {
    "collapsed": false
   },
   "outputs": [
    {
     "name": "stdout",
     "output_type": "stream",
     "text": [
      "0_prerequisite.ipynb                           \u001b[1m\u001b[36m__pycache__\u001b[m\u001b[m\r\n",
      "1_manage_your_python_env_coda_virtualenv.ipynb hello_file\r\n",
      "2_python_quick_learning.ipynb                  install_python_conda.ipynb\r\n",
      "Intro_to_jupyter_notebook.ipynb                ipython.ipynb\r\n"
     ]
    }
   ],
   "source": [
    "!ls"
   ]
  }
 ],
 "metadata": {
  "kernelspec": {
   "display_name": "Python 3",
   "language": "python",
   "name": "python3"
  },
  "language_info": {
   "codemirror_mode": {
    "name": "ipython",
    "version": 3
   },
   "file_extension": ".py",
   "mimetype": "text/x-python",
   "name": "python",
   "nbconvert_exporter": "python",
   "pygments_lexer": "ipython3",
   "version": "3.5.0"
  }
 },
 "nbformat": 4,
 "nbformat_minor": 0
}
