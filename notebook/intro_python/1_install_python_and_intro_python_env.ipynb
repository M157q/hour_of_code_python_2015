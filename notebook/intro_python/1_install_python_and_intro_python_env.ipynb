{
 "cells": [
  {
   "cell_type": "markdown",
   "metadata": {},
   "source": [
    "\n",
    "## Install Python\n",
    "\n",
    "- Windows\n",
    "- Linux\n",
    "- Mac\n",
    "\n",
    "#### Windows\n",
    "\n",
    "Dowload the lastest version of Python ( MSI package) from the offficial site.\n",
    "\n",
    "Double-clik the file to install python.\n",
    "\n",
    "### Mac\n",
    "\n",
    "Recent Macs come with Python installed.\n",
    "The latest version of Mac OS X, El Capitan, comes with Python 2.7.\n",
    "\n",
    "### Linux\n",
    "\n",
    "Most Linux distrbutions comes with python installed.\n",
    "\n",
    "\n",
    "## Use conda to install python\n",
    "\n",
    "Conda is a cross-platform package manger and enviroment manager.\n",
    "Conda works on Windows, Mac, Linux.\n",
    "\n",
    "Now conda provides python2.7 and python3.5.\n",
    "See [Installatino guide](http://conda.pydata.org/miniconda.html).\n",
    "\n",
    "\n",
    "\n"
   ]
  },
  {
   "cell_type": "markdown",
   "metadata": {},
   "source": [
    "### Conda Basci Usage\n",
    "\n",
    "#### Create conda environment\n",
    "\n",
    "~~~\n",
    "    $ conda create -n myenv python=2\n",
    "    # It will create environment **myenv** with python2.7 installed.\n",
    "    \n",
    "    $ source activate myenv o activate this environment\n",
    "~~~\n",
    "\n",
    "\n",
    "$ conda info --env\n",
    "\n",
    "$ conda info\n",
    "\n",
    "\n",
    "\n",
    "[Get started with conda](http://pre.tir.tw/008/blog/output/conda-miniconda-python.html)\n"
   ]
  },
  {
   "cell_type": "markdown",
   "metadata": {},
   "source": [
    "# pip\n",
    "\n",
    "pip is a python package management system.\n",
    "We use it to  install and manage python modules.\n",
    "\n",
    "[youtude-dl](https://github.com/rg3/youtube-dl/)\n",
    "\n",
    "$ pip install youtube-dl\n",
    "\n",
    "[speedtest-cli](https://github.com/sivel/speedtest-cli)\n",
    "\n",
    "$ pip install speedtest-cli\n"
   ]
  },
  {
   "cell_type": "markdown",
   "metadata": {},
   "source": [
    "# virtualenv, pyvenv\n",
    "\n",
    "virtualenv is a tool to create isolated Python environments.\n",
    "\n",
    "Install virtaualenv\n",
    "\n",
    "$ pip install virtualenv\n",
    "\n",
    "Usage\n",
    "\n",
    "$ virtualenv \n",
    "\n",
    "\n",
    "In python3, we can use pyvenv instead of virtualenv.\n",
    "\n",
    "The venv module is added after python3.3.\n",
    "\n",
    "The venv module ( pyvenv) is used to create isolated environments.\n",
    "Eash isolated environments can have its own independent set of installed Python packages.\n",
    "\n"
   ]
  },
  {
   "cell_type": "markdown",
   "metadata": {},
   "source": [
    "\n",
    "\n",
    "\n"
   ]
  }
 ],
 "metadata": {
  "kernelspec": {
   "display_name": "Python 2",
   "language": "python",
   "name": "python2"
  },
  "language_info": {
   "codemirror_mode": {
    "name": "ipython",
    "version": 2
   },
   "file_extension": ".py",
   "mimetype": "text/x-python",
   "name": "python",
   "nbconvert_exporter": "python",
   "pygments_lexer": "ipython2",
   "version": "2.7.10"
  }
 },
 "nbformat": 4,
 "nbformat_minor": 0
}
