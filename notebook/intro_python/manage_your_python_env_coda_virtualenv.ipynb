{
 "cells": [
  {
   "cell_type": "markdown",
   "metadata": {},
   "source": [
    "# Exercise - Conda\n",
    "\n",
    "Run the following commands in your terminal.\n",
    "\n",
    "```\n",
    "$ conda info -e\n",
    "\n",
    "$ conda create -n test_env python=2\n",
    "\n",
    "$ which speedtest-cli\n",
    "\n",
    "$ source activate test_env\n",
    "\n",
    "$ pip install speedtest-cli\n",
    "\n",
    "$ which speedtest-cli\n",
    "\n",
    "$ source deactivate\n",
    "\n",
    "$ which speedtest-cli\n",
    "\n",
    "$ conda info -e\n",
    "\n",
    "$ conda env remove -n test_env\n",
    "\n",
    "$ conda info -e\n",
    "```"
   ]
  },
  {
   "cell_type": "markdown",
   "metadata": {
    "collapsed": true
   },
   "source": [
    "# pip installation\n",
    "\n",
    "If you use conda to install python, pip comes with it.\n",
    "\n",
    "For other cases,\n",
    "you may have pip installed on your system\n",
    "since pip is included after Python2.7.9 and Python 3.4.\n",
    "\n",
    "If you don't have pip,\n",
    "you can manually install it via this link\n",
    "[pip Installation](http://pip.readthedocs.org/en/stable/installing/).\n",
    "\n",
    "\n",
    "# Exercise\n",
    "\n",
    "\n",
    "## pip - Run the follwing commands\n",
    "\n",
    "```\n",
    "$ pip freeze\n",
    "\n",
    "$ pip install ipython\n",
    "\n",
    "$ pip insatll virtualenv\n",
    "\n",
    "$ pip uninstall ipython # optional\n",
    "\n",
    "```\n",
    "\n",
    "## virtualenv -  Run the follwing commands\n",
    "\n",
    "```\n",
    "$ cd ~\n",
    "\n",
    "$ virtualenv test_env\n",
    "\n",
    "$ source test_env/bin/activate\n",
    "\n",
    "$ pip freeze\n",
    "$ pip install speedtest-cli\n",
    "$ speedtest-cli\n",
    "$ pip freeze\n",
    "\n",
    "$ deactivate\n",
    "\n",
    "$ cd ~\n",
    "$ rm -rf test_env\n",
    "```\n",
    "\n"
   ]
  }
 ],
 "metadata": {
  "kernelspec": {
   "display_name": "Python 2",
   "language": "python",
   "name": "python2"
  },
  "language_info": {
   "codemirror_mode": {
    "name": "ipython",
    "version": 2
   },
   "file_extension": ".py",
   "mimetype": "text/x-python",
   "name": "python",
   "nbconvert_exporter": "python",
   "pygments_lexer": "ipython2",
   "version": "2.7.10"
  }
 },
 "nbformat": 4,
 "nbformat_minor": 0
}
