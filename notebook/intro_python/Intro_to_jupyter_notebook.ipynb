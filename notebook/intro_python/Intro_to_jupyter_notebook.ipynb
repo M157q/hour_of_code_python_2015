{
 "cells": [
  {
   "cell_type": "markdown",
   "metadata": {},
   "source": [
    "# Jupyter Notebook\n",
    "\n",
    "The Jupyter Notebook is an interactive computing environment that enables users to\n",
    "\n",
    "- Edit code in the browser\n",
    "- Run code from the browser\n",
    "  + The default runs Python Code\n",
    "  + Julia, R, Ruby, Haskell, Scala, node.js, Go\n",
    "- Write documents in Markdown\n",
    "- See the results of computations with rich media representations\n",
    "  + HTML\n",
    "  + PNG, SVG\n",
    "  + PDF\n",
    "  + LaTex"
   ]
  },
  {
   "cell_type": "markdown",
   "metadata": {},
   "source": [
    "# Install jupyter when using conda\n",
    "\n",
    "```\n",
    "$ conda create -n jupyter_env python=2 # or python=3\n",
    "\n",
    "$ source activate jupyter_env\n",
    "\n",
    "$ conda install jupyter\n",
    "\n",
    "```"
   ]
  },
  {
   "cell_type": "markdown",
   "metadata": {},
   "source": [
    "\n",
    "# Running jupyter notebook\n",
    "\n",
    "Run the following command in the Terminal.\n",
    "\n",
    "```\n",
    "    $ cd /path/to/directory/you/want/take/note\n",
    "    $ jupyter notebook\n",
    "```    \n",
    "    \n",
    "It will lanch the Notebook web application in your defalut web browser.\n",
    "\n",
    "For example\n",
    "\n",
    "```\n",
    "$ git clone https://github.com/jminh/hour_of_code_python_2015.git\n",
    "$ cd hour_of_code_python_2015/notebook\n",
    "$ jupyter notebook\n",
    "Now enjoy playing with jupyter\n",
    "```\n",
    "\n",
    "# Jupyter notebook - Get started\n",
    "\n",
    "[Jupyter Notebook Examples and Tutorials](http://jupyter-notebook.readthedocs.org/en/latest/examples/Notebook/rstversions/Examples%20and%20Tutorials%20Index.html)\n",
    "\n",
    "- [What is the Jupyter Notebook](http://jupyter-notebook.readthedocs.org/en/latest/examples/Notebook/rstversions/What%20is%20the%20Jupyter%20Notebook.html)\n",
    "- [Notebook Basics](http://jupyter-notebook.readthedocs.org/en/latest/examples/Notebook/rstversions/Notebook%20Basics.html)\n",
    "- [Running Code](http://jupyter-notebook.readthedocs.org/en/latest/examples/Notebook/rstversions/Running%20Code.html)\n",
    "- [Working With Markdown Cells](http://jupyter-notebook.readthedocs.org/en/latest/examples/Notebook/rstversions/Working%20With%20Markdown%20Cells.html)\n",
    "\n"
   ]
  },
  {
   "cell_type": "markdown",
   "metadata": {},
   "source": [
    "## Runing Code\n",
    "\n",
    "Using Shif-Enter to run a code shell.\n"
   ]
  }
 ],
 "metadata": {
  "kernelspec": {
   "display_name": "Python 2",
   "language": "python",
   "name": "python2"
  },
  "language_info": {
   "codemirror_mode": {
    "name": "ipython",
    "version": 2
   },
   "file_extension": ".py",
   "mimetype": "text/x-python",
   "name": "python",
   "nbconvert_exporter": "python",
   "pygments_lexer": "ipython2",
   "version": "2.7.10"
  }
 },
 "nbformat": 4,
 "nbformat_minor": 0
}
